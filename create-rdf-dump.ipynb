{
 "cells": [
  {
   "cell_type": "code",
   "execution_count": 1,
   "id": "1e7938bf-61e4-48a2-bba0-349c018963a6",
   "metadata": {
    "tags": []
   },
   "outputs": [],
   "source": [
    "from rdflib import Graph, Literal, Namespace\n",
    "from rdflib.namespace import RDFS\n",
    "import hashlib\n",
    "\n",
    "g = Graph()\n",
    "\n",
    "terms = Namespace(\"http://related-terms.io/terms/\")\n",
    "termsv = Namespace(\"http://related-terms.io/vocab#\")\n",
    "\n",
    "relaredToPred = termsv.relatedTo\n",
    "labelPred = RDFS.label\n",
    "\n",
    "def md5_hash(t):\n",
    "    result = hashlib.md5(t.encode())\n",
    "    return result.hexdigest()\n",
    "\n",
    "def add_terms(t1, t2):\n",
    "    t1 = t1.lower()\n",
    "    t2 = t2.lower()\n",
    "    t1h = md5_hash(t1)\n",
    "    t2h = md5_hash(t2)\n",
    "    g.add((terms[t1h], relaredToPred, terms[t2h]))\n",
    "    g.add((terms[t2h], relaredToPred, terms[t1h]))\n",
    "    g.add((terms[t1h], labelPred, Literal(t1)))\n",
    "    g.add((terms[t2h], labelPred, Literal(t2)))    \n"
   ]
  },
  {
   "cell_type": "code",
   "execution_count": 2,
   "id": "791f275d-5bb3-49a6-850a-a83bb647c0de",
   "metadata": {
    "tags": []
   },
   "outputs": [],
   "source": [
    "files = ['conceptnet-english.csv', 'mesh-related-terms.txt']\n",
    "for file in files:\n",
    "    with open(file) as f:\n",
    "        for l in f:\n",
    "            l = l.strip().lower().split('|||')\n",
    "            add_terms(l[0], l[1])\n",
    "            \n",
    "g.serialize(destination=\"related-terms.nt\", format='ntriples')"
   ]
  },
  {
   "cell_type": "code",
   "execution_count": 3,
   "id": "6325ee83-cc67-47b2-8b19-e3c6a62a6c5d",
   "metadata": {
    "tags": []
   },
   "outputs": [
    {
     "name": "stdout",
     "output_type": "stream",
     "text": [
      "upload: ./related-terms.nt to s3://osedemah-mesh-rdf/related-terms.nt\n"
     ]
    }
   ],
   "source": [
    "!aws s3 cp related-terms.nt s3://osedemah-mesh-rdf/related-terms.nt"
   ]
  },
  {
   "cell_type": "code",
   "execution_count": 4,
   "id": "7dfaa9c3-acfc-4ccb-af72-e06703177086",
   "metadata": {
    "tags": []
   },
   "outputs": [
    {
     "name": "stdout",
     "output_type": "stream",
     "text": [
      "{\n",
      "    \"status\" : \"200 OK\",\n",
      "    \"payload\" : {\n",
      "        \"loadId\" : \"cf5b9788-696b-40fb-94a3-5a37dc8cf23a\"\n",
      "    }\n",
      "}"
     ]
    }
   ],
   "source": [
    "!curl -X POST \\\n",
    "    -H 'Content-Type: application/json' \\\n",
    "    https://database-1.cluster-cclypxvaeodz.us-west-2.neptune.amazonaws.com:8182/loader -d '\\\n",
    "    {\\\n",
    "      \"source\" : \"s3://osedemah-mesh-rdf/related-terms.nt\",\\\n",
    "      \"format\" : \"ntriples\",\\\n",
    "      \"iamRoleArn\" : \"arn:aws:iam::812630329048:role/NeptuneS3\",\\\n",
    "      \"region\" : \"us-west-2\",\\\n",
    "      \"failOnError\" : \"FALSE\",\\\n",
    "      \"parallelism\" : \"MEDIUM\",\\\n",
    "      \"updateSingleCardinalityProperties\" : \"FALSE\",\\\n",
    "      \"queueRequest\" : \"TRUE\"\\\n",
    "    }'"
   ]
  },
  {
   "cell_type": "code",
   "execution_count": 18,
   "id": "ff3080b7-0c74-4bf9-89ab-cf7d6fc8ef97",
   "metadata": {
    "tags": []
   },
   "outputs": [
    {
     "name": "stdout",
     "output_type": "stream",
     "text": [
      "{\n",
      "    \"status\" : \"200 OK\",\n",
      "    \"payload\" : {\n",
      "        \"feedCount\" : [\n",
      "            {\n",
      "                \"LOAD_COMPLETED\" : 1\n",
      "            }\n",
      "        ],\n",
      "        \"overallStatus\" : {\n",
      "            \"fullUri\" : \"s3://osedemah-mesh-rdf/related-terms.nt\",\n",
      "            \"runNumber\" : 1,\n",
      "            \"retryNumber\" : 0,\n",
      "            \"status\" : \"LOAD_COMPLETED\",\n",
      "            \"totalTimeSpent\" : 495,\n",
      "            \"startTime\" : 1689535651,\n",
      "            \"totalRecords\" : 7423261,\n",
      "            \"totalDuplicates\" : 0,\n",
      "            \"parsingErrors\" : 0,\n",
      "            \"datatypeMismatchErrors\" : 0,\n",
      "            \"insertErrors\" : 0\n",
      "        }\n",
      "    }\n",
      "}"
     ]
    }
   ],
   "source": [
    "!curl https://database-1.cluster-cclypxvaeodz.us-west-2.neptune.amazonaws.com:8182/loader/cf5b9788-696b-40fb-94a3-5a37dc8cf23a"
   ]
  },
  {
   "cell_type": "code",
   "execution_count": 1,
   "id": "c3c55510-a959-4c82-85d7-0939db161b1c",
   "metadata": {},
   "outputs": [
    {
     "name": "stdout",
     "output_type": "stream",
     "text": [
      "--2023-08-09 01:11:28--  https://s3.amazonaws.com/aws-neptune-customer-samples/neptune-export/bin/neptune-export.jar\n",
      "Resolving s3.amazonaws.com (s3.amazonaws.com)... 52.217.71.182, 52.216.222.144, 52.216.230.61, ...\n",
      "Connecting to s3.amazonaws.com (s3.amazonaws.com)|52.217.71.182|:443... connected.\n",
      "HTTP request sent, awaiting response... 200 OK\n",
      "Length: 74647740 (71M) [application/java-archive]\n",
      "Saving to: ‘neptune-export.jar’\n",
      "\n",
      "100%[======================================>] 74,647,740  35.4MB/s   in 2.0s   \n",
      "\n",
      "2023-08-09 01:11:30 (35.4 MB/s) - ‘neptune-export.jar’ saved [74647740/74647740]\n",
      "\n"
     ]
    }
   ],
   "source": [
    "!wget https://s3.amazonaws.com/aws-neptune-customer-samples/neptune-export/bin/neptune-export.jar"
   ]
  },
  {
   "cell_type": "code",
   "execution_count": 5,
   "id": "e0ba6081-a2c4-4fe5-a956-e8ad9d39a600",
   "metadata": {
    "tags": []
   },
   "outputs": [
    {
     "name": "stdout",
     "output_type": "stream",
     "text": [
      "neptune-export.jar: [buildVersion='1.0.6', buildTime='2023-07-31T23:08:33+0000', commitId='f4ee9d1b1c10ff69cdb11534850940f5ca838918', commitTime='2023-07-31T23:08:00+0000']\n",
      "cmd                       : export-rdf\n",
      "params                    : {\n",
      "  \"endpoint\" : \"database-1.cluster-cclypxvaeodz.us-west-2.neptune.amazonaws.com\"\n",
      "}\n",
      "outputS3Path              : s3://osedemah-mesh-rdf/neptune-export\n",
      "createExportSubdirectory  : true\n",
      "overwriteExisting         : false\n",
      "uploadToS3OnError         : true\n",
      "configFileS3Path          : \n",
      "queriesFileS3Path         : \n",
      "completionFileS3Path      : \n",
      "s3Region                  : \n",
      "sseKmsKeyId               : \n",
      "completionFilePayload     : { }\n",
      "additionalParams          : { }\n",
      "maxFileDescriptorCount    : 10000\n",
      "revised cmd           : export-rdf --endpoint 'database-1.cluster-cclypxvaeodz.us-west-2.neptune.amazonaws.com'\n",
      "WARNING: An illegal reflective access operation has occurred\n",
      "WARNING: Illegal reflective access by org.codehaus.groovy.reflection.CachedClass (file:/home/ec2-user/SageMaker/Neptune/final-project/neptune-export.jar) to method java.lang.Object.finalize()\n",
      "WARNING: Please consider reporting this to the maintainers of org.codehaus.groovy.reflection.CachedClass\n",
      "WARNING: Use --illegal-access=warn to enable warnings of further illegal reflective access operations\n",
      "WARNING: All illegal access operations will be denied in a future release\n",
      "[main] INFO com.amazonaws.services.neptune.export.NeptuneExportService - Args after service init: export-rdf --endpoint database-1.cluster-cclypxvaeodz.us-west-2.neptune.amazonaws.com -d /home/ec2-user/SageMaker/Neptune/final-project/exports/output\n",
      "neptune-export.jar: [buildVersion='1.0.6', buildTime='2023-07-31T23:08:33+0000', commitId='f4ee9d1b1c10ff69cdb11534850940f5ca838918', commitTime='2023-07-31T23:08:00+0000']\n",
      "[main] WARN com.amazonaws.profile.path.cred.CredentialsLegacyConfigLocationProvider - Found the legacy config profiles file at [/home/ec2-user/.aws/config]. Please move it to the latest default location [~/.aws/credentials].\n",
      "Cluster ID              : database-1\n",
      "Port                    : 8182\n",
      "Engine                  : 1.2.1.0\n",
      "IAM DB Auth             : false\n",
      "Streams enabled         : false\n",
      "Parameter group family  : neptune1.2\n",
      "Cluster parameter group : default.neptune1.2\n",
      "Subnet group            : default-vpc-090b3926879ee95ad\n",
      "Security group IDs      : sg-0d64de83d2c18975c\n",
      "Instance endpoints      : database-1-instance-1.cclypxvaeodz.us-west-2.neptune.amazonaws.com\n",
      "\n",
      "Primary\n",
      "  Instance ID              : database-1-instance-1\n",
      "  Instance type            : db.serverless\n",
      "  Endpoint                 : database-1-instance-1.cclypxvaeodz.us-west-2.neptune.amazonaws.com\n",
      "  Database parameter group : default.neptune1.2\n",
      "Creating statement files\n",
      "[main] INFO com.amazonaws.services.neptune.io.Status - 100000 (statements)\n",
      "[main] INFO com.amazonaws.services.neptune.io.Status - 200000 (statements)\n",
      "[main] INFO com.amazonaws.services.neptune.io.Status - 300000 (statements)\n",
      "[main] INFO com.amazonaws.services.neptune.io.Status - 400000 (statements)\n",
      "[main] INFO com.amazonaws.services.neptune.io.Status - 500000 (statements)\n",
      "[main] INFO com.amazonaws.services.neptune.io.Status - 600000 (statements)\n",
      "[main] INFO com.amazonaws.services.neptune.io.Status - 700000 (statements)\n",
      "[main] INFO com.amazonaws.services.neptune.io.Status - 800000 (statements)\n",
      "[main] INFO com.amazonaws.services.neptune.io.Status - 900000 (statements)\n",
      "[main] INFO com.amazonaws.services.neptune.io.Status - 1000000 (statements)\n",
      "[main] INFO com.amazonaws.services.neptune.io.Status - 1100000 (statements)\n",
      "[main] INFO com.amazonaws.services.neptune.io.Status - 1200000 (statements)\n",
      "[main] INFO com.amazonaws.services.neptune.io.Status - 1300000 (statements)\n",
      "[main] INFO com.amazonaws.services.neptune.io.Status - 1400000 (statements)\n",
      "[main] INFO com.amazonaws.services.neptune.io.Status - 1500000 (statements)\n",
      "[main] INFO com.amazonaws.services.neptune.io.Status - 1600000 (statements)\n",
      "[main] INFO com.amazonaws.services.neptune.io.Status - 1700000 (statements)\n",
      "[main] INFO com.amazonaws.services.neptune.io.Status - 1800000 (statements)\n",
      "[main] INFO com.amazonaws.services.neptune.io.Status - 1900000 (statements)\n",
      "[main] INFO com.amazonaws.services.neptune.io.Status - 2000000 (statements)\n",
      "[main] INFO com.amazonaws.services.neptune.io.Status - 2100000 (statements)\n",
      "[main] INFO com.amazonaws.services.neptune.io.Status - 2200000 (statements)\n",
      "[main] INFO com.amazonaws.services.neptune.io.Status - 2300000 (statements)\n",
      "[main] INFO com.amazonaws.services.neptune.io.Status - 2400000 (statements)\n",
      "[main] INFO com.amazonaws.services.neptune.io.Status - 2500000 (statements)\n",
      "[main] INFO com.amazonaws.services.neptune.io.Status - 2600000 (statements)\n",
      "[main] INFO com.amazonaws.services.neptune.io.Status - 2700000 (statements)\n",
      "[main] INFO com.amazonaws.services.neptune.io.Status - 2800000 (statements)\n",
      "[main] INFO com.amazonaws.services.neptune.io.Status - 2900000 (statements)\n",
      "[main] INFO com.amazonaws.services.neptune.io.Status - 3000000 (statements)\n",
      "[main] INFO com.amazonaws.services.neptune.io.Status - 3100000 (statements)\n",
      "[main] INFO com.amazonaws.services.neptune.io.Status - 3200000 (statements)\n",
      "[main] INFO com.amazonaws.services.neptune.io.Status - 3300000 (statements)\n",
      "[main] INFO com.amazonaws.services.neptune.io.Status - 3400000 (statements)\n",
      "[main] INFO com.amazonaws.services.neptune.io.Status - 3500000 (statements)\n",
      "[main] INFO com.amazonaws.services.neptune.io.Status - 3600000 (statements)\n",
      "[main] INFO com.amazonaws.services.neptune.io.Status - 3700000 (statements)\n",
      "[main] INFO com.amazonaws.services.neptune.io.Status - 3800000 (statements)\n",
      "[main] INFO com.amazonaws.services.neptune.io.Status - 3900000 (statements)\n",
      "[main] INFO com.amazonaws.services.neptune.io.Status - 4000000 (statements)\n",
      "[main] INFO com.amazonaws.services.neptune.io.Status - 4100000 (statements)\n",
      "[main] INFO com.amazonaws.services.neptune.io.Status - 4200000 (statements)\n",
      "[main] INFO com.amazonaws.services.neptune.io.Status - 4300000 (statements)\n",
      "[main] INFO com.amazonaws.services.neptune.io.Status - 4400000 (statements)\n",
      "[main] INFO com.amazonaws.services.neptune.io.Status - 4500000 (statements)\n",
      "[main] INFO com.amazonaws.services.neptune.io.Status - 4600000 (statements)\n",
      "[main] INFO com.amazonaws.services.neptune.io.Status - 4700000 (statements)\n",
      "[main] INFO com.amazonaws.services.neptune.io.Status - 4800000 (statements)\n",
      "[main] INFO com.amazonaws.services.neptune.io.Status - 4900000 (statements)\n",
      "^C\n"
     ]
    }
   ],
   "source": [
    "!java -jar neptune-export.jar nesvc --json '{\"command\":\"export-rdf\",\"outputS3Path\":\"s3://osedemah-mesh-rdf/neptune-export\",\"params\":{\"endpoint\":\"database-1.cluster-cclypxvaeodz.us-west-2.neptune.amazonaws.com\"}}'"
   ]
  },
  {
   "cell_type": "code",
   "execution_count": 6,
   "id": "104fb7cf-54c4-4623-901a-6847ee96e5b2",
   "metadata": {
    "tags": []
   },
   "outputs": [],
   "source": [
    "!rm -rf exports"
   ]
  },
  {
   "cell_type": "code",
   "execution_count": 7,
   "id": "55ef5025-65f9-47bf-825a-424edac28eb3",
   "metadata": {
    "tags": []
   },
   "outputs": [
    {
     "name": "stdout",
     "output_type": "stream",
     "text": [
      "conceptnet-english.csv\tneptune-export.jar   related-terms.nt\n",
      "create-rdf-dump.ipynb\tquery.ipynb\n",
      "mesh-related-terms.txt\trelated_terms.ipynb\n"
     ]
    }
   ],
   "source": [
    "!ls"
   ]
  },
  {
   "cell_type": "code",
   "execution_count": null,
   "id": "17832852-5109-45a1-9205-76a8f38940a2",
   "metadata": {},
   "outputs": [],
   "source": []
  }
 ],
 "metadata": {
  "kernelspec": {
   "display_name": "Python 3",
   "language": "python",
   "name": "python3"
  },
  "language_info": {
   "codemirror_mode": {
    "name": "ipython",
    "version": 3
   },
   "file_extension": ".py",
   "mimetype": "text/x-python",
   "name": "python",
   "nbconvert_exporter": "python",
   "pygments_lexer": "ipython3",
   "version": "3.10.8"
  }
 },
 "nbformat": 4,
 "nbformat_minor": 5
}
