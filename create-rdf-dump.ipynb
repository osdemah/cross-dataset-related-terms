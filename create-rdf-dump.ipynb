{
 "cells": [
  {
   "cell_type": "code",
   "execution_count": 1,
   "id": "1e7938bf-61e4-48a2-bba0-349c018963a6",
   "metadata": {
    "tags": []
   },
   "outputs": [],
   "source": [
    "from rdflib import Graph, Literal, Namespace\n",
    "from rdflib.namespace import RDFS\n",
    "import hashlib\n",
    "\n",
    "g = Graph()\n",
    "\n",
    "terms = Namespace(\"http://related-terms.io/terms/\")\n",
    "relations = Namespace(\"http://related-terms.io/relations/\")\n",
    "termsv = Namespace(\"http://related-terms.io/vocab#\")\n",
    "\n",
    "relaredToPred = termsv.relatedTo\n",
    "weightPred = termsv.weight\n",
    "labelPred = RDFS.label\n",
    "\n",
    "def md5_hash(t):\n",
    "    result = hashlib.md5(t.encode())\n",
    "    return result.hexdigest()\n",
    "\n",
    "def add_terms(t1, t2, w):\n",
    "    t1 = t1.lower()\n",
    "    t2 = t2.lower()\n",
    "    t1h = md5_hash(t1)\n",
    "    t2h = md5_hash(t2)\n",
    "    g.add((terms[t1h], relaredToPred, terms[t2h]))\n",
    "    g.add((terms[t2h], relaredToPred, terms[t1h]))\n",
    "    g.add((terms[t1h], labelPred, Literal(t1)))\n",
    "    g.add((terms[t2h], labelPred, Literal(t2)))\n",
    "    g.add((relations[f\"{t2h}-{t1h}\"], weightPred, Literal(w)))\n",
    "    g.add((relations[f\"{t1h}-{t2h}\"], weightPred, Literal(w)))\n"
   ]
  },
  {
   "cell_type": "code",
   "execution_count": null,
   "id": "791f275d-5bb3-49a6-850a-a83bb647c0de",
   "metadata": {
    "tags": []
   },
   "outputs": [
    {
     "name": "stderr",
     "output_type": "stream",
     "text": [
      " 48%|██████████████████████████████████████████████████████████████████████████▍                                                                                | 1502340/3127145 [05:42<08:42, 3111.97it/s]"
     ]
    }
   ],
   "source": [
    "from tqdm import tqdm\n",
    "with open('data/merged-terms.csv') as f:\n",
    "    for l in tqdm(f, total=3127145):\n",
    "        l = l.strip().lower().split('|||')\n",
    "        add_terms(l[0], l[1], float(l[2]))\n",
    "            \n",
    "g.serialize(destination=\"related-terms.nt\", format='ntriples')"
   ]
  },
  {
   "cell_type": "code",
   "execution_count": 3,
   "id": "6325ee83-cc67-47b2-8b19-e3c6a62a6c5d",
   "metadata": {
    "tags": []
   },
   "outputs": [
    {
     "name": "stdout",
     "output_type": "stream",
     "text": [
      "upload: ./related-terms.nt to s3://osedemah-mesh-rdf/related-terms.nt\n"
     ]
    }
   ],
   "source": [
    "!aws s3 cp related-terms.nt s3://osedemah-mesh-rdf/related-terms.nt"
   ]
  },
  {
   "cell_type": "code",
   "execution_count": 4,
   "id": "7dfaa9c3-acfc-4ccb-af72-e06703177086",
   "metadata": {
    "tags": []
   },
   "outputs": [
    {
     "name": "stdout",
     "output_type": "stream",
     "text": [
      "{\n",
      "    \"status\" : \"200 OK\",\n",
      "    \"payload\" : {\n",
      "        \"loadId\" : \"cf5b9788-696b-40fb-94a3-5a37dc8cf23a\"\n",
      "    }\n",
      "}"
     ]
    }
   ],
   "source": [
    "!curl -X POST \\\n",
    "    -H 'Content-Type: application/json' \\\n",
    "    https://database-1.cluster-cclypxvaeodz.us-west-2.neptune.amazonaws.com:8182/loader -d '\\\n",
    "    {\\\n",
    "      \"source\" : \"s3://osedemah-mesh-rdf/related-terms.nt\",\\\n",
    "      \"format\" : \"ntriples\",\\\n",
    "      \"iamRoleArn\" : \"arn:aws:iam::812630329048:role/NeptuneS3\",\\\n",
    "      \"region\" : \"us-west-2\",\\\n",
    "      \"failOnError\" : \"FALSE\",\\\n",
    "      \"parallelism\" : \"MEDIUM\",\\\n",
    "      \"updateSingleCardinalityProperties\" : \"FALSE\",\\\n",
    "      \"queueRequest\" : \"TRUE\"\\\n",
    "    }'"
   ]
  },
  {
   "cell_type": "code",
   "execution_count": 1,
   "id": "ff3080b7-0c74-4bf9-89ab-cf7d6fc8ef97",
   "metadata": {
    "tags": []
   },
   "outputs": [
    {
     "name": "stdout",
     "output_type": "stream",
     "text": [
      "curl: (28) Failed to connect to database-1.cluster-cclypxvaeodz.us-west-2.neptune.amazonaws.com port 8182 after 75130 ms: Operation timed out\n"
     ]
    }
   ],
   "source": [
    "!curl https://database-1.cluster-cclypxvaeodz.us-west-2.neptune.amazonaws.com:8182/loader/cf5b9788-696b-40fb-94a3-5a37dc8cf23a"
   ]
  },
  {
   "cell_type": "code",
   "execution_count": null,
   "id": "b74add9a-0843-4dd4-a873-b01423aff641",
   "metadata": {},
   "outputs": [],
   "source": []
  }
 ],
 "metadata": {
  "kernelspec": {
   "display_name": "Python 3 (ipykernel)",
   "language": "python",
   "name": "python3"
  },
  "language_info": {
   "codemirror_mode": {
    "name": "ipython",
    "version": 3
   },
   "file_extension": ".py",
   "mimetype": "text/x-python",
   "name": "python",
   "nbconvert_exporter": "python",
   "pygments_lexer": "ipython3",
   "version": "3.10.5"
  }
 },
 "nbformat": 4,
 "nbformat_minor": 5
}
