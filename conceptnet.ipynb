{
 "cells": [
  {
   "cell_type": "code",
   "execution_count": null,
   "id": "e52e5317-d56e-4e74-b6c8-308b0838ed1f",
   "metadata": {},
   "outputs": [],
   "source": [
    "conceptnet_en_tokens = open('conceptnet-english.csv', 'w')\n",
    "with open(\"/Users/hamed/Downloads/conceptnet-assertions-5.7.0.csv\") as file:\n",
    "    for line in file:\n",
    "        tokens = line.split(\"\\t\")\n",
    "        words = tokens[2:4]\n",
    "        en_prefix = '/c/en/'\n",
    "        if words[0].startswith(en_prefix) and words[1].startswith(en_prefix):\n",
    "            words = [x.removeprefix(en_prefix) for x in words]\n",
    "            words = [x.split('/')[0] for x in words]\n",
    "            words = [x.replace('_', ' ') for x in words]\n",
    "            conceptnet_en_tokens.write('|||'.join(words) + '\\n')\n",
    "conceptnet_en_tokens.close()\n",
    "            "
   ]
  }
 ],
 "metadata": {
  "kernelspec": {
   "display_name": "Python 3 (ipykernel)",
   "language": "python",
   "name": "python3"
  },
  "language_info": {
   "codemirror_mode": {
    "name": "ipython",
    "version": 3
   },
   "file_extension": ".py",
   "mimetype": "text/x-python",
   "name": "python",
   "nbconvert_exporter": "python",
   "pygments_lexer": "ipython3",
   "version": "3.10.5"
  }
 },
 "nbformat": 4,
 "nbformat_minor": 5
}
