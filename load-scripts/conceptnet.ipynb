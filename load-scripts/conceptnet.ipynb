{
 "cells": [
  {
   "cell_type": "code",
   "execution_count": 1,
   "id": "e52e5317-d56e-4e74-b6c8-308b0838ed1f",
   "metadata": {},
   "outputs": [],
   "source": [
    "import json\n",
    "conceptnet_en_tokens = open('conceptnet-english.csv', 'w')\n",
    "with open(\"/Users/hamed/Downloads/conceptnet-assertions-5.7.0.csv\") as file:\n",
    "    for line in file:\n",
    "        tokens = line.split(\"\\t\")\n",
    "        words = tokens[2:4]\n",
    "        weight = float(json.loads(tokens[-1])['weight'])\n",
    "        en_prefix = '/c/en/'\n",
    "        if words[0].startswith(en_prefix) and words[1].startswith(en_prefix):\n",
    "            words = [x.removeprefix(en_prefix) for x in words]\n",
    "            words = [x.split('/')[0] for x in words]\n",
    "            words = [x.replace('_', ' ') for x in words]\n",
    "            conceptnet_en_tokens.write('|||'.join(words) + '|||' + str(weight) + '\\n')\n",
    "conceptnet_en_tokens.close()\n",
    "            "
   ]
  },
  {
   "cell_type": "code",
   "execution_count": null,
   "id": "6a60fe9d-90ff-4658-bf70-0dc1f1be0d06",
   "metadata": {},
   "outputs": [],
   "source": []
  }
 ],
 "metadata": {
  "kernelspec": {
   "display_name": "Python 3 (ipykernel)",
   "language": "python",
   "name": "python3"
  },
  "language_info": {
   "codemirror_mode": {
    "name": "ipython",
    "version": 3
   },
   "file_extension": ".py",
   "mimetype": "text/x-python",
   "name": "python",
   "nbconvert_exporter": "python",
   "pygments_lexer": "ipython3",
   "version": "3.10.5"
  }
 },
 "nbformat": 4,
 "nbformat_minor": 5
}
