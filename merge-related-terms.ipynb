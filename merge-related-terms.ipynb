{
 "cells": [
  {
   "cell_type": "code",
   "execution_count": null,
   "id": "febd1b61-7a1a-419d-b545-e5a5bd46c656",
   "metadata": {},
   "outputs": [],
   "source": [
    "def merge_files(file_names, result_file):\n",
    "    terms_dict = {}\n",
    "    for file_name in file_names:\n",
    "        with open(file_name) as f:\n",
    "            for line in f:\n",
    "                term1, term2, weight = line.strip().split('|||')\n",
    "                weight = float(weight)\n",
    "                key = tuple(sorted((term1, term2)))\n",
    "                if key in terms_dict:\n",
    "                    terms_dict[key] += weight\n",
    "                else:\n",
    "                    terms_dict[key] = weight\n",
    "    with open(result_file) as result_handle:\n",
    "        for key, value in terms_dict.items():\n",
    "            result_handle.write(f\"{key[0]}|||{key[1]}|||{value}\")\n",
    "\n"
   ]
  }
 ],
 "metadata": {
  "kernelspec": {
   "display_name": "Python 3",
   "language": "python",
   "name": "python3"
  },
  "language_info": {
   "codemirror_mode": {
    "name": "ipython",
    "version": 3
   },
   "file_extension": ".py",
   "mimetype": "text/x-python",
   "name": "python",
   "nbconvert_exporter": "python",
   "pygments_lexer": "ipython3",
   "version": "3.10.8"
  }
 },
 "nbformat": 4,
 "nbformat_minor": 5
}
