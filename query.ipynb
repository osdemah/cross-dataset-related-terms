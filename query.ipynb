{
 "cells": [
  {
   "cell_type": "code",
   "execution_count": 7,
   "id": "1c6fe58b-4edd-4368-84e6-f2a7480775df",
   "metadata": {
    "tags": []
   },
   "outputs": [
    {
     "data": {
      "application/vnd.jupyter.widget-view+json": {
       "model_id": "1b57a7bbeca74529999c384b2fdd3248",
       "version_major": 2,
       "version_minor": 0
      },
      "text/plain": [
       "Tab(children=(Output(layout=Layout(max_height='600px', max_width='940px', overflow='scroll')), Output(layout=L…"
      ]
     },
     "metadata": {},
     "output_type": "display_data"
    }
   ],
   "source": [
    "%%sparql\n",
    "\n",
    "PREFIX terms: <http://related-terms.io/terms/>\n",
    "PREFIX rdfs: <http://www.w3.org/2000/01/rdf-schema#>\n",
    "PREFIX termsv: <http://related-terms.io/vocab#>\n",
    "PREFIX hint: <http://aws.amazon.com/neptune/vocab/v01/QueryHints#>\n",
    "\n",
    "SELECT ?label ?weight\n",
    "{\n",
    "    hint:Query hint:joinOrder \"Ordered\" .\n",
    "    {\n",
    "        SELECT ?label ?relation \n",
    "        {\n",
    "            hint:SubQuery hint:evaluationStrategy \"BottomUp\" .\n",
    "            ?term rdfs:label \"sheep\" .\n",
    "            ?related termsv:relatedTo ?term .\n",
    "            ?related rdfs:label ?label .\n",
    "            BIND(REPLACE(STR(?term), \"http://related-terms.io/terms/\", \"\") AS ?rterm) .\n",
    "            BIND(REPLACE(STR(?related), \"http://related-terms.io/terms/\", \"\") AS ?rrelated) .\n",
    "            BIND(IRI(CONCAT(\"http://related-terms.io/relations/\", ?rterm, \"-\", ?rrelated)) as ?relation) .\n",
    "        }\n",
    "    }\n",
    "    ?relation termsv:weight ?weight\n",
    "} ORDER BY DESC(?weight) LIMIT 10"
   ]
  },
  {
   "cell_type": "code",
   "execution_count": null,
   "id": "ad9df82e-8bb8-4f70-81dd-216e5578a102",
   "metadata": {},
   "outputs": [],
   "source": []
  }
 ],
 "metadata": {
  "kernelspec": {
   "display_name": "Python 3 (ipykernel)",
   "language": "python",
   "name": "python3"
  },
  "language_info": {
   "codemirror_mode": {
    "name": "ipython",
    "version": 3
   },
   "file_extension": ".py",
   "mimetype": "text/x-python",
   "name": "python",
   "nbconvert_exporter": "python",
   "pygments_lexer": "ipython3",
   "version": "3.10.5"
  }
 },
 "nbformat": 4,
 "nbformat_minor": 5
}
