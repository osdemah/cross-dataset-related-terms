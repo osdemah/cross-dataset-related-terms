{
 "cells": [
  {
   "cell_type": "code",
   "execution_count": 7,
   "id": "1c6fe58b-4edd-4368-84e6-f2a7480775df",
   "metadata": {
    "tags": []
   },
   "outputs": [
    {
     "data": {
      "application/vnd.jupyter.widget-view+json": {
       "model_id": "1b57a7bbeca74529999c384b2fdd3248",
       "version_major": 2,
       "version_minor": 0
      },
      "text/plain": [
       "Tab(children=(Output(layout=Layout(max_height='600px', max_width='940px', overflow='scroll')), Output(layout=L…"
      ]
     },
     "metadata": {},
     "output_type": "display_data"
    }
   ],
   "source": [
    "%%sparql\n",
    "\n",
    "PREFIX terms: <http://related-terms.io/terms/>\n",
    "PREFIX rdfs: <http://www.w3.org/2000/01/rdf-schema#>\n",
    "PREFIX termsv: <http://related-terms.io/vocab#>\n",
    "\n",
    "SELECT ?label\n",
    "{\n",
    "    ?term rdfs:label \"guppy\" .\n",
    "    ?related termsv:relatedTo ?term .\n",
    "    ?related rdfs:label ?label .\n",
    "}"
   ]
  },
  {
   "cell_type": "code",
   "execution_count": null,
   "id": "ad9df82e-8bb8-4f70-81dd-216e5578a102",
   "metadata": {},
   "outputs": [],
   "source": []
  }
 ],
 "metadata": {
  "kernelspec": {
   "display_name": "Python 3",
   "language": "python",
   "name": "python3"
  },
  "language_info": {
   "codemirror_mode": {
    "name": "ipython",
    "version": 3
   },
   "file_extension": ".py",
   "mimetype": "text/x-python",
   "name": "python",
   "nbconvert_exporter": "python",
   "pygments_lexer": "ipython3",
   "version": "3.10.8"
  }
 },
 "nbformat": 4,
 "nbformat_minor": 5
}
