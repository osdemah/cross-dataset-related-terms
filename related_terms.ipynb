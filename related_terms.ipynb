{
 "cells": [
  {
   "cell_type": "code",
   "execution_count": 1,
   "id": "ad7ebe8b-9a80-43ed-8015-341172aa6831",
   "metadata": {
    "tags": []
   },
   "outputs": [
    {
     "name": "stdout",
     "output_type": "stream",
     "text": [
      "  % Total    % Received % Xferd  Average Speed   Time    Time     Time  Current\n",
      "                                 Dload  Upload   Total   Spent    Left  Speed\n",
      "100 1874M  100 1874M    0     0  38.4M      0  0:00:48  0:00:48 --:--:-- 33.3M8M62 1167M    0     0  38.4M      0  0:00:48  0:00:30  0:00:18 38.6M\n"
     ]
    }
   ],
   "source": [
    "!curl -o mesh2022.nt https://nlmpubs.nlm.nih.gov/projects/mesh/rdf/2022/mesh2022.nt"
   ]
  },
  {
   "cell_type": "code",
   "execution_count": 2,
   "id": "17ba1768-ef7b-4eef-a9e5-d83629a0da6d",
   "metadata": {
    "tags": []
   },
   "outputs": [
    {
     "name": "stdout",
     "output_type": "stream",
     "text": [
      "upload: ./mesh2022.nt to s3://osedemah-mesh-rdf/mesh2022.nt        \n"
     ]
    }
   ],
   "source": [
    "!aws s3 cp mesh2022.nt s3://osedemah-mesh-rdf/mesh2022.nt"
   ]
  },
  {
   "cell_type": "code",
   "execution_count": 7,
   "id": "6fb93909-c75c-4b41-83d0-a72559175751",
   "metadata": {
    "tags": []
   },
   "outputs": [
    {
     "name": "stdout",
     "output_type": "stream",
     "text": [
      "{\n",
      "    \"status\" : \"200 OK\",\n",
      "    \"payload\" : {\n",
      "        \"loadId\" : \"003ba86c-a1fa-418f-9da1-3dbe677f986f\"\n",
      "    }\n",
      "}"
     ]
    }
   ],
   "source": [
    "!curl -X POST \\\n",
    "    -H 'Content-Type: application/json' \\\n",
    "    https://database-1.cluster-cclypxvaeodz.us-west-2.neptune.amazonaws.com:8182/loader -d '\\\n",
    "    {\\\n",
    "      \"source\" : \"s3://osedemah-mesh-rdf/mesh2022.nt\",\\\n",
    "      \"format\" : \"ntriples\",\\\n",
    "      \"iamRoleArn\" : \"arn:aws:iam::812630329048:role/NeptuneS3\",\\\n",
    "      \"region\" : \"us-west-2\",\\\n",
    "      \"failOnError\" : \"FALSE\",\\\n",
    "      \"parallelism\" : \"MEDIUM\",\\\n",
    "      \"updateSingleCardinalityProperties\" : \"FALSE\",\\\n",
    "      \"queueRequest\" : \"TRUE\"\\\n",
    "    }'"
   ]
  },
  {
   "cell_type": "code",
   "execution_count": 20,
   "id": "c012a0cc-0993-49f1-97d4-4789115d4268",
   "metadata": {
    "tags": []
   },
   "outputs": [
    {
     "name": "stdout",
     "output_type": "stream",
     "text": [
      "{\n",
      "    \"status\" : \"200 OK\",\n",
      "    \"payload\" : {\n",
      "        \"feedCount\" : [\n",
      "            {\n",
      "                \"LOAD_COMPLETED\" : 1\n",
      "            }\n",
      "        ],\n",
      "        \"overallStatus\" : {\n",
      "            \"fullUri\" : \"s3://osedemah-mesh-rdf/mesh2022.nt\",\n",
      "            \"runNumber\" : 1,\n",
      "            \"retryNumber\" : 0,\n",
      "            \"status\" : \"LOAD_COMPLETED\",\n",
      "            \"totalTimeSpent\" : 402,\n",
      "            \"startTime\" : 1694210786,\n",
      "            \"totalRecords\" : 15163366,\n",
      "            \"totalDuplicates\" : 0,\n",
      "            \"parsingErrors\" : 0,\n",
      "            \"datatypeMismatchErrors\" : 0,\n",
      "            \"insertErrors\" : 0\n",
      "        }\n",
      "    }\n",
      "}"
     ]
    }
   ],
   "source": [
    "!curl https://database-1.cluster-cclypxvaeodz.us-west-2.neptune.amazonaws.com:8182/loader/003ba86c-a1fa-418f-9da1-3dbe677f986f"
   ]
  },
  {
   "cell_type": "code",
   "execution_count": 1,
   "id": "564d42c7-7eb9-4c63-86e1-ca84d1170cbf",
   "metadata": {
    "tags": []
   },
   "outputs": [],
   "source": [
    "from rdflib import Graph, Namespace\n",
    "from rdflib.plugins.stores import sparqlstore\n",
    "\n",
    "\n",
    "neptune_endpoint = \"https://database-1.cluster-cclypxvaeodz.us-west-2.neptune.amazonaws.com:8182/sparql\"\n",
    "store = sparqlstore.SPARQLStore(neptune_endpoint, method='POST')\n",
    "g = Graph(store)\n",
    "\n",
    "MESHV = Namespace(\"http://id.nlm.nih.gov/mesh/vocab#\")\n",
    "MESH = Namespace(\"http://id.nlm.nih.gov/mesh/2022/\")\n",
    "g.bind(\"meshv\", MESHV)\n",
    "g.bind(\"mesh\", MESH)\n",
    "\n",
    "\n",
    "def query(q):\n",
    "    return g.query(q)"
   ]
  },
  {
   "cell_type": "code",
   "execution_count": 2,
   "id": "6812a3cc-f104-48c6-82c8-6ca5c42d6078",
   "metadata": {
    "tags": []
   },
   "outputs": [
    {
     "name": "stdout",
     "output_type": "stream",
     "text": [
      "29607\n",
      "['http://id.nlm.nih.gov/mesh/2022/D000327', 'http://id.nlm.nih.gov/mesh/2022/D001639', 'http://id.nlm.nih.gov/mesh/2022/D017680', 'http://id.nlm.nih.gov/mesh/2022/D019290', 'http://id.nlm.nih.gov/mesh/2022/D007652', 'http://id.nlm.nih.gov/mesh/2022/D004744', 'http://id.nlm.nih.gov/mesh/2022/D014267', 'http://id.nlm.nih.gov/mesh/2022/D004288', 'http://id.nlm.nih.gov/mesh/2022/D055312', 'http://id.nlm.nih.gov/mesh/2022/D007073']\n"
     ]
    }
   ],
   "source": [
    "descriptors = query(\n",
    "    \"\"\"\n",
    "    SELECT ?d\n",
    "    WHERE {\n",
    "        {?d a meshv:TopicalDescriptor .}\n",
    "        UNION\n",
    "        {?d a meshv:Descriptor .}\n",
    "    }\n",
    "    \"\"\"\n",
    ")\n",
    "\n",
    "descriptors = [str(d[0]) for d in descriptors]\n",
    "print(len(descriptors))\n",
    "print(descriptors[:10])"
   ]
  },
  {
   "cell_type": "code",
   "execution_count": 3,
   "id": "c3211a86-94fa-46da-8c6d-77b07b4eb041",
   "metadata": {
    "tags": []
   },
   "outputs": [
    {
     "name": "stdout",
     "output_type": "stream",
     "text": [
      "{'Naprosyn', 'Sodium Naproxenate', 'Proxen', 'Naproxen Sodium', 'Naproxen', 'Naprosin', 'Synflex', 'Aleve', 'Anaprox'}\n"
     ]
    }
   ],
   "source": [
    "\n",
    "def extract_labels(descriptor):\n",
    "    terms = query(\n",
    "        \"\"\"\n",
    "        SELECT ?l\n",
    "        WHERE {\n",
    "        {\n",
    "            <DESC> meshv:concept ?c .\n",
    "            ?c meshv:term ?t .\n",
    "            ?t meshv:prefLabel ?l .\n",
    "        }\n",
    "        UNION\n",
    "        {\n",
    "            <DESC> rdfs:label ?l .\n",
    "        }\n",
    "        UNION\n",
    "        {\n",
    "            <DESC> meshv:concept ?c .\n",
    "            ?c rdfs:label ?l .\n",
    "        }\n",
    "        UNION\n",
    "        {\n",
    "            <DESC> meshv:term ?t .\n",
    "            ?t meshv:prefLabel ?l .\n",
    "        }\n",
    "        }\n",
    "        \"\"\".replace('DESC', descriptor)\n",
    "    )\n",
    "\n",
    "    return set([str(i[0]) for i in terms])\n",
    "\n",
    "print(extract_labels('http://id.nlm.nih.gov/mesh/2022/D009288'))"
   ]
  },
  {
   "cell_type": "code",
   "execution_count": 4,
   "id": "94a2e5ec-0f4c-43df-b584-d941ae6b75ea",
   "metadata": {
    "tags": []
   },
   "outputs": [],
   "source": [
    "related_terms = open('mesh-related-terms.txt', 'w')\n",
    "\n",
    "for d in descriptors:\n",
    "    labels = list(extract_labels(d))\n",
    "    for i in range(len(labels)):\n",
    "        for j in range(i + 1, len(labels)):\n",
    "            related_terms.write(labels[i] + '|||' + labels[j] + '|||1.0\\n')\n",
    "\n",
    "related_terms.close()"
   ]
  },
  {
   "cell_type": "code",
   "execution_count": 5,
   "id": "5160050a-24b0-4314-aea9-8c48354d151a",
   "metadata": {
    "tags": []
   },
   "outputs": [
    {
     "name": "stdout",
     "output_type": "stream",
     "text": [
      "236616 mesh-related-terms.txt\n"
     ]
    }
   ],
   "source": [
    "!wc -l mesh-related-terms.txt"
   ]
  }
 ],
 "metadata": {
  "kernelspec": {
   "display_name": "Python 3 (ipykernel)",
   "language": "python",
   "name": "python3"
  },
  "language_info": {
   "codemirror_mode": {
    "name": "ipython",
    "version": 3
   },
   "file_extension": ".py",
   "mimetype": "text/x-python",
   "name": "python",
   "nbconvert_exporter": "python",
   "pygments_lexer": "ipython3",
   "version": "3.10.5"
  }
 },
 "nbformat": 4,
 "nbformat_minor": 5
}
